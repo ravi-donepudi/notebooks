{
 "cells": [
  {
   "cell_type": "code",
   "execution_count": 28,
   "id": "e5e75dc8-b686-4034-9b2c-e8521f50612f",
   "metadata": {},
   "outputs": [
    {
     "data": {
      "text/plain": [
       "x^5 + t*x^4 + 96*t*x^2 + 96*x"
      ]
     },
     "execution_count": 28,
     "metadata": {},
     "output_type": "execute_result"
    }
   ],
   "source": [
    "p = 97; g = 2\n",
    "F = GF(p)\n",
    "R.<t> = PolynomialRing(F)\n",
    "S.<x> = PolynomialRing(R)\n",
    "f = x*(x^g-1)*(x^g + t*x^(g/2) + 1);f"
   ]
  },
  {
   "cell_type": "code",
   "execution_count": 29,
   "id": "1a0533e2-1e9a-4733-9ea7-ff240fb1db1c",
   "metadata": {},
   "outputs": [
    {
     "data": {
      "text/plain": [
       "[t^48 + 7*t^46 + 56*t^44 + 38*t^42 + 75*t^40 + 54*t^38 + 5*t^36 + 35*t^34 + 55*t^32 + 93*t^30 + 21*t^28 + 65*t^26 + 36*t^24 + 57*t^22 + 91*t^20 + 54*t^18 + 17*t^16 + 91*t^14 + 95*t^12 + 29*t^10 + 48*t^8 + 57*t^6 + 22*t^4 + 52*t^2 + 10     48*t^47 + 8*t^45 + 45*t^43 + 57*t^41 + 62*t^39 + 25*t^37 + 58*t^35 + 64*t^33 + 43*t^31 + 94*t^29 + 67*t^27 + 33*t^25 + 37*t^23 + 95*t^21 + 36*t^19 + 46*t^17 + 21*t^15 + 62*t^13 + 67*t^11 + 66*t^9 + 24*t^7 + 50*t^5 + 15*t^3 + 23*t]\n",
       "[    48*t^47 + 8*t^45 + 45*t^43 + 57*t^41 + 62*t^39 + 25*t^37 + 58*t^35 + 64*t^33 + 43*t^31 + 94*t^29 + 67*t^27 + 33*t^25 + 37*t^23 + 95*t^21 + 36*t^19 + 46*t^17 + 21*t^15 + 62*t^13 + 67*t^11 + 66*t^9 + 24*t^7 + 50*t^5 + 15*t^3 + 23*t t^48 + 7*t^46 + 56*t^44 + 38*t^42 + 75*t^40 + 54*t^38 + 5*t^36 + 35*t^34 + 55*t^32 + 93*t^30 + 21*t^28 + 65*t^26 + 36*t^24 + 57*t^22 + 91*t^20 + 54*t^18 + 17*t^16 + 91*t^14 + 95*t^12 + 29*t^10 + 48*t^8 + 57*t^6 + 22*t^4 + 52*t^2 + 10]"
      ]
     },
     "execution_count": 29,
     "metadata": {},
     "output_type": "execute_result"
    }
   ],
   "source": [
    "coefficients = list(f^((p-1)/2)); coefficients;\n",
    "cm_matrix = matrix(R, g, g, lambda i, j: coefficients[(i+1)*p-(j+1)] );cm_matrix"
   ]
  },
  {
   "cell_type": "code",
   "execution_count": 38,
   "id": "6bdad0dc",
   "metadata": {},
   "outputs": [
    {
     "data": {
      "text/plain": [
       "{t + 4: 2,\n",
       " t + 93: 2,\n",
       " t + 2: 24,\n",
       " t + 95: 24,\n",
       " t^2 + 20: 2,\n",
       " t^2 + 29: 2,\n",
       " t^2 + 58: 2,\n",
       " t^2 + 60: 2,\n",
       " t^2 + 77: 2,\n",
       " t^2 + 17*t + 94: 2,\n",
       " t^2 + 26*t + 57: 2,\n",
       " t^2 + 28*t + 61: 2,\n",
       " t^2 + 69*t + 61: 2,\n",
       " t^2 + 71*t + 57: 2,\n",
       " t^2 + 80*t + 94: 2}"
      ]
     },
     "execution_count": 38,
     "metadata": {},
     "output_type": "execute_result"
    }
   ],
   "source": [
    "cm_determinant = cm_matrix.determinant();\n",
    "factors = dict(cm_determinant.factor());factors\n"
   ]
  },
  {
   "cell_type": "code",
   "execution_count": null,
   "id": "6d822a1d",
   "metadata": {},
   "outputs": [],
   "source": []
  },
  {
   "cell_type": "code",
   "execution_count": null,
   "id": "b87706d4",
   "metadata": {},
   "outputs": [],
   "source": []
  }
 ],
 "metadata": {
  "kernelspec": {
   "display_name": "SageMath 9.3",
   "language": "sage",
   "name": "sagemath"
  },
  "language_info": {
   "codemirror_mode": {
    "name": "ipython",
    "version": 3
   },
   "file_extension": ".py",
   "mimetype": "text/x-python",
   "name": "python",
   "nbconvert_exporter": "python",
   "pygments_lexer": "ipython3",
   "version": "3.7.10"
  }
 },
 "nbformat": 4,
 "nbformat_minor": 5
}
