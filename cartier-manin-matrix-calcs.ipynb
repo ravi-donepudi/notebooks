{
 "cells": [
  {
   "cell_type": "code",
   "execution_count": 15,
   "id": "e5e75dc8-b686-4034-9b2c-e8521f50612f",
   "metadata": {},
   "outputs": [],
   "source": [
    "p = 17; g = 2\n",
    "F = GF(p)\n",
    "R.<t> = PolynomialRing(F)\n",
    "S.<x> = PolynomialRing(R)\n",
    "f = x*(x^g-1)*(x^g + t*x^g/2 + 1)"
   ]
  },
  {
   "cell_type": "code",
   "execution_count": 18,
   "id": "1a0533e2-1e9a-4733-9ea7-ff240fb1db1c",
   "metadata": {},
   "outputs": [
    {
     "data": {
      "text/plain": [
       "[                        15*t^4 + 13*t^3 + 16*t^2 + 11*t + 11                                                            0]\n",
       "[                                                           0 2*t^8 + 3*t^7 + 13*t^6 + 4*t^5 + 16*t^3 + 12*t^2 + 16*t + 11]"
      ]
     },
     "execution_count": 18,
     "metadata": {},
     "output_type": "execute_result"
    }
   ],
   "source": [
    "coefficients = list(f^((p-1)/2)); coefficients;\n",
    "cm_matrix = matrix(R, g, g, lambda i, j: coefficients[(i+1)*p-(j+1)] );cm_matrix"
   ]
  },
  {
   "cell_type": "code",
   "execution_count": 20,
   "id": "6bdad0dc",
   "metadata": {},
   "outputs": [
    {
     "data": {
      "text/plain": [
       "[                        15*t^4 + 13*t^3 + 16*t^2 + 11*t + 11                                                            0]\n",
       "[                                                           0 2*t^8 + 3*t^7 + 13*t^6 + 4*t^5 + 16*t^3 + 12*t^2 + 16*t + 11]"
      ]
     },
     "execution_count": 20,
     "metadata": {},
     "output_type": "execute_result"
    }
   ],
   "source": [
    "cm_determinant = cm_matrix.determinant();cm_matrix"
   ]
  },
  {
   "cell_type": "code",
   "execution_count": null,
   "id": "6d822a1d",
   "metadata": {},
   "outputs": [],
   "source": []
  }
 ],
 "metadata": {
  "kernelspec": {
   "display_name": "SageMath 9.3",
   "language": "sage",
   "name": "sagemath"
  },
  "language_info": {
   "codemirror_mode": {
    "name": "ipython",
    "version": 3
   },
   "file_extension": ".py",
   "mimetype": "text/x-python",
   "name": "python",
   "nbconvert_exporter": "python",
   "pygments_lexer": "ipython3",
   "version": "3.7.10"
  }
 },
 "nbformat": 4,
 "nbformat_minor": 5
}
